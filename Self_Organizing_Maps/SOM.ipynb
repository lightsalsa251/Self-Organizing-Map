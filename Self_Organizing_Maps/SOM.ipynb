{
 "cells": [
  {
   "cell_type": "code",
   "execution_count": 1,
   "metadata": {},
   "outputs": [],
   "source": [
    "### Data is from UCI repo"
   ]
  },
  {
   "cell_type": "code",
   "execution_count": 2,
   "metadata": {},
   "outputs": [],
   "source": [
    "### Here we detect the outliers which are the fraud customers"
   ]
  },
  {
   "cell_type": "code",
   "execution_count": 4,
   "metadata": {},
   "outputs": [],
   "source": [
    "## We need to compute the MID(Mean Inter-Neuron Distance), which is the mean euclidean distance of the main neuron with its neighbourhood"
   ]
  },
  {
   "cell_type": "code",
   "execution_count": 5,
   "metadata": {},
   "outputs": [],
   "source": [
    "### Outliers will be far from the mean"
   ]
  },
  {
   "cell_type": "code",
   "execution_count": 6,
   "metadata": {},
   "outputs": [],
   "source": [
    "### Class 1 are the customers whose applications got approved\n",
    "### They may be fraudulent"
   ]
  },
  {
   "cell_type": "code",
   "execution_count": 7,
   "metadata": {},
   "outputs": [],
   "source": [
    "import numpy as np\n",
    "import matplotlib.pyplot as plt\n",
    "import pandas as pd"
   ]
  },
  {
   "cell_type": "code",
   "execution_count": 8,
   "metadata": {},
   "outputs": [],
   "source": [
    "dataset = pd.read_csv('Credit_Card_Applications.csv')\n",
    "X = dataset.iloc[:, :-1].values\n",
    "y = dataset.iloc[:, -1].values"
   ]
  },
  {
   "cell_type": "code",
   "execution_count": 10,
   "metadata": {},
   "outputs": [],
   "source": [
    "from sklearn.preprocessing import MinMaxScaler\n",
    "sc = MinMaxScaler(feature_range = (0, 1))\n",
    "X = sc.fit_transform(X)"
   ]
  },
  {
   "cell_type": "code",
   "execution_count": 11,
   "metadata": {},
   "outputs": [],
   "source": [
    "### x and y are the dimensions of the SOM(it should not be small so that outliers can be detected)\n",
    "### input_len are the number of features of X(customer id included to find the id of faulters)\n",
    "### sigma is the radius"
   ]
  },
  {
   "cell_type": "code",
   "execution_count": 12,
   "metadata": {},
   "outputs": [],
   "source": [
    "from minisom import MiniSom\n",
    "som = MiniSom(x = 10, y = 10, input_len = 15, sigma = 1.0, learning_rate = 0.5)\n",
    "som.random_weights_init(X)\n",
    "som.train_random(data = X, num_iteration = 100)"
   ]
  },
  {
   "cell_type": "code",
   "execution_count": 13,
   "metadata": {},
   "outputs": [],
   "source": [
    "### The higher the MID the more away will be the winning node from its neighbourhood\n",
    "### thus it will be more likely to be an outlier\n",
    "### The BMU far from its neighbourhood is generally far from the clusters"
   ]
  },
  {
   "cell_type": "code",
   "execution_count": 14,
   "metadata": {},
   "outputs": [],
   "source": [
    "### colors closer to white are outliers"
   ]
  },
  {
   "cell_type": "code",
   "execution_count": 15,
   "metadata": {},
   "outputs": [],
   "source": [
    "### the window is the bone()\n",
    "from pylab import bone, pcolor, colorbar, plot, show"
   ]
  },
  {
   "cell_type": "code",
   "execution_count": 16,
   "metadata": {},
   "outputs": [
    {
     "data": {
      "text/plain": [
       "<Figure size 432x288 with 0 Axes>"
      ]
     },
     "metadata": {},
     "output_type": "display_data"
    }
   ],
   "source": [
    "bone()"
   ]
  },
  {
   "cell_type": "code",
   "execution_count": 17,
   "metadata": {},
   "outputs": [],
   "source": [
    "### Pcolor() is used to color all MIDs "
   ]
  },
  {
   "cell_type": "code",
   "execution_count": 24,
   "metadata": {},
   "outputs": [
    {
     "data": {
      "image/png": "[encoded data removed]",
      "text/plain": [
       "<Figure size 432x288 with 2 Axes>"
      ]
     },
     "metadata": {},
     "output_type": "display_data"
    }
   ],
   "source": [
    "pcolor(som.distance_map().T)\n",
    "colorbar() #gives legend\n",
    "\n",
    "markers = ['o', 's']\n",
    "colors = ['r', 'g']\n",
    "for i, x in enumerate(X):\n",
    "    w = som.winner(x)\n",
    "    plot(w[0] + 0.5,\n",
    "         w[1] + 0.5,\n",
    "         markers[y[i]],\n",
    "         markeredgecolor = colors[y[i]],\n",
    "         markerfacecolor = 'None',\n",
    "         markersize = 10,\n",
    "         markeredgewidth = 2)\n",
    "show()\n"
   ]
  },
  {
   "cell_type": "code",
   "execution_count": 23,
   "metadata": {},
   "outputs": [],
   "source": [
    "### Markers to distinguish frauds\n",
    "### Red are Class 0\n",
    "### Green are Class 1\n",
    "### i is the index and x is the vector of each customer\n",
    "### for each x get the winning node first\n",
    "### co-ordinates of the winning node are w[0] and w[1], 0.5 is added to center the marker\n",
    "### s is a square\n",
    "### marker face color is the inside color of the marker"
   ]
  },
  {
   "cell_type": "code",
   "execution_count": 45,
   "metadata": {},
   "outputs": [
    {
     "data": {
      "text/plain": [
       "dict_keys([(3, 6), (6, 5), (2, 9), (1, 2), (5, 0), (3, 3), (8, 2), (4, 3), (8, 3), (8, 9), (7, 9), (9, 9), (8, 6), (9, 2), (3, 0), (0, 7), (5, 8), (2, 0), (3, 9), (7, 8), (9, 0), (6, 1), (0, 5), (3, 7), (6, 2), (5, 5), (2, 3), (9, 5), (1, 6), (9, 6), (4, 4), (4, 2), (5, 3), (4, 1), (0, 9), (8, 1), (9, 3), (8, 7), (5, 1), (6, 4), (3, 4), (5, 2), (0, 8), (2, 4), (1, 3), (1, 8), (7, 3), (6, 8), (1, 1), (0, 6), (1, 9), (6, 9), (7, 6), (4, 9), (1, 0), (8, 8), (1, 7), (5, 9), (4, 6), (6, 3), (2, 1), (2, 6)])"
      ]
     },
     "execution_count": 45,
     "metadata": {},
     "output_type": "execute_result"
    }
   ],
   "source": [
    "mappings = som.win_map(X)\n",
    "mappings.keys()"
   ]
  },
  {
   "cell_type": "code",
   "execution_count": 46,
   "metadata": {},
   "outputs": [
    {
     "data": {
      "text/plain": [
       "[array([0.84268147, 1.        , 0.12526316, 0.40928571, 0.5       ,\n",
       "        0.23076923, 0.375     , 0.05561404, 0.        , 0.        ,\n",
       "        0.        , 1.        , 0.5       , 0.05      , 0.01212   ]),\n",
       " array([0.72114172, 1.        , 0.15533835, 0.32142857, 0.5       ,\n",
       "        0.38461538, 0.375     , 0.00877193, 0.        , 0.        ,\n",
       "        0.        , 1.        , 0.5       , 0.        , 0.        ]),\n",
       " array([0.89100585, 1.        , 0.09398496, 0.39446429, 0.5       ,\n",
       "        0.53846154, 0.375     , 0.07017544, 0.        , 0.        ,\n",
       "        0.        , 1.        , 0.5       , 0.068     , 0.        ]),\n",
       " array([0.7976967 , 1.        , 0.13157895, 0.41071429, 0.        ,\n",
       "        0.46153846, 0.375     , 0.05263158, 0.        , 0.        ,\n",
       "        0.        , 1.        , 0.5       , 0.        , 0.04      ]),\n",
       " array([0.7562758 , 1.        , 0.2756391 , 0.14285714, 0.        ,\n",
       "        0.92307692, 0.375     , 0.05263158, 0.        , 0.        ,\n",
       "        0.        , 1.        , 0.5       , 0.06      , 0.        ]),\n",
       " array([0.67920025, 1.        , 0.19428571, 0.52089286, 0.5       ,\n",
       "        0.15384615, 0.5       , 0.        , 0.        , 0.        ,\n",
       "        0.        , 1.        , 0.5       , 0.089     , 0.        ]),\n",
       " array([0.84574479, 1.        , 0.18917293, 0.46428571, 0.5       ,\n",
       "        0.69230769, 0.125     , 0.        , 0.        , 0.        ,\n",
       "        0.        , 1.        , 0.5       , 0.07      , 0.0111    ])]"
      ]
     },
     "execution_count": 46,
     "metadata": {},
     "output_type": "execute_result"
    }
   ],
   "source": [
    "mappings[(3,6)] #these are the inputs for the winning node 3,6"
   ]
  },
  {
   "cell_type": "code",
   "execution_count": 47,
   "metadata": {},
   "outputs": [],
   "source": [
    "frauds = np.concatenate((mappings[(1,8)], mappings[(4,6)]), axis = 0)\n",
    "#concat the fraud winning nodes by seeing the graph"
   ]
  },
  {
   "cell_type": "code",
   "execution_count": 48,
   "metadata": {},
   "outputs": [
    {
     "data": {
      "text/plain": [
       "array([[6.02124703e-01, 0.00000000e+00, 1.27819549e-01, 4.46428571e-02,\n",
       "        0.00000000e+00, 0.00000000e+00, 0.00000000e+00, 1.14035088e-01,\n",
       "        0.00000000e+00, 0.00000000e+00, 0.00000000e+00, 0.00000000e+00,\n",
       "        5.00000000e-01, 1.40000000e-01, 0.00000000e+00],\n",
       "       [9.20249551e-01, 0.00000000e+00, 4.28571429e-01, 6.25000000e-02,\n",
       "        0.00000000e+00, 5.38461538e-01, 3.75000000e-01, 0.00000000e+00,\n",
       "        0.00000000e+00, 0.00000000e+00, 0.00000000e+00, 1.00000000e+00,\n",
       "        5.00000000e-01, 7.50000000e-02, 1.00000000e-05],\n",
       "       [7.47330106e-01, 0.00000000e+00, 1.10225564e-01, 1.78571429e-01,\n",
       "        0.00000000e+00, 0.00000000e+00, 0.00000000e+00, 0.00000000e+00,\n",
       "        0.00000000e+00, 0.00000000e+00, 0.00000000e+00, 0.00000000e+00,\n",
       "        5.00000000e-01, 0.00000000e+00, 0.00000000e+00],\n",
       "       [1.82978349e-01, 0.00000000e+00, 1.47819549e-01, 2.08928571e-02,\n",
       "        0.00000000e+00, 0.00000000e+00, 0.00000000e+00, 4.38596491e-03,\n",
       "        0.00000000e+00, 0.00000000e+00, 0.00000000e+00, 0.00000000e+00,\n",
       "        5.00000000e-01, 6.00000000e-02, 8.70000000e-04],\n",
       "       [2.83267061e-01, 0.00000000e+00, 5.77744361e-01, 0.00000000e+00,\n",
       "        0.00000000e+00, 0.00000000e+00, 0.00000000e+00, 0.00000000e+00,\n",
       "        0.00000000e+00, 0.00000000e+00, 0.00000000e+00, 0.00000000e+00,\n",
       "        5.00000000e-01, 0.00000000e+00, 0.00000000e+00],\n",
       "       [8.98570050e-01, 1.00000000e+00, 5.63909774e-02, 7.85714286e-01,\n",
       "        1.00000000e+00, 0.00000000e+00, 7.50000000e-01, 0.00000000e+00,\n",
       "        0.00000000e+00, 0.00000000e+00, 0.00000000e+00, 1.00000000e+00,\n",
       "        1.00000000e+00, 2.25000000e-01, 1.00000000e+00]])"
      ]
     },
     "execution_count": 48,
     "metadata": {},
     "output_type": "execute_result"
    }
   ],
   "source": [
    "frauds"
   ]
  },
  {
   "cell_type": "code",
   "execution_count": 49,
   "metadata": {},
   "outputs": [],
   "source": [
    "# these are two list of customers\n",
    "frauds1 = sc.inverse_transform(frauds)"
   ]
  },
  {
   "cell_type": "code",
   "execution_count": 50,
   "metadata": {},
   "outputs": [
    {
     "data": {
      "text/plain": [
       "array([[1.5716082e+07, 0.0000000e+00, 2.2250000e+01, 1.2500000e+00,\n",
       "        1.0000000e+00, 1.0000000e+00, 1.0000000e+00, 3.2500000e+00,\n",
       "        0.0000000e+00, 0.0000000e+00, 0.0000000e+00, 0.0000000e+00,\n",
       "        2.0000000e+00, 2.8000000e+02, 1.0000000e+00],\n",
       "       [1.5795527e+07, 0.0000000e+00, 4.2250000e+01, 1.7500000e+00,\n",
       "        1.0000000e+00, 8.0000000e+00, 4.0000000e+00, 0.0000000e+00,\n",
       "        0.0000000e+00, 0.0000000e+00, 0.0000000e+00, 1.0000000e+00,\n",
       "        2.0000000e+00, 1.5000000e+02, 2.0000000e+00],\n",
       "       [1.5752344e+07, 0.0000000e+00, 2.1080000e+01, 5.0000000e+00,\n",
       "        1.0000000e+00, 1.0000000e+00, 1.0000000e+00, 0.0000000e+00,\n",
       "        0.0000000e+00, 0.0000000e+00, 0.0000000e+00, 0.0000000e+00,\n",
       "        2.0000000e+00, 0.0000000e+00, 1.0000000e+00],\n",
       "       [1.5611409e+07, 0.0000000e+00, 2.3580000e+01, 5.8500000e-01,\n",
       "        1.0000000e+00, 1.0000000e+00, 1.0000000e+00, 1.2500000e-01,\n",
       "        0.0000000e+00, 0.0000000e+00, 0.0000000e+00, 0.0000000e+00,\n",
       "        2.0000000e+00, 1.2000000e+02, 8.8000000e+01],\n",
       "       [1.5636454e+07, 0.0000000e+00, 5.2170000e+01, 0.0000000e+00,\n",
       "        1.0000000e+00, 1.0000000e+00, 1.0000000e+00, 0.0000000e+00,\n",
       "        0.0000000e+00, 0.0000000e+00, 0.0000000e+00, 0.0000000e+00,\n",
       "        2.0000000e+00, 0.0000000e+00, 1.0000000e+00],\n",
       "       [1.5790113e+07, 1.0000000e+00, 1.7500000e+01, 2.2000000e+01,\n",
       "        3.0000000e+00, 1.0000000e+00, 7.0000000e+00, 0.0000000e+00,\n",
       "        0.0000000e+00, 0.0000000e+00, 0.0000000e+00, 1.0000000e+00,\n",
       "        3.0000000e+00, 4.5000000e+02, 1.0000100e+05]])"
      ]
     },
     "execution_count": 50,
     "metadata": {},
     "output_type": "execute_result"
    }
   ],
   "source": [
    "frauds1"
   ]
  },
  {
   "cell_type": "code",
   "execution_count": 51,
   "metadata": {},
   "outputs": [],
   "source": [
    "### ids are first coloumn * 10^7"
   ]
  },
  {
   "cell_type": "code",
   "execution_count": null,
   "metadata": {},
   "outputs": [],
   "source": []
  }
 ],
 "metadata": {
  "kernelspec": {
   "display_name": "Python 3",
   "language": "python",
   "name": "python3"
  },
  "language_info": {
   "codemirror_mode": {
    "name": "ipython",
    "version": 3
   },
   "file_extension": ".py",
   "mimetype": "text/x-python",
   "name": "python",
   "nbconvert_exporter": "python",
   "pygments_lexer": "ipython3",
   "version": "3.6.5"
  }
 },
 "nbformat": 4,
 "nbformat_minor": 2
}
